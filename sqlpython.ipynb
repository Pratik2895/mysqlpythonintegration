{
 "cells": [
  {
   "cell_type": "markdown",
   "metadata": {},
   "source": [
    "Defining connection arguments in a dictionary and using the ** operator is another option:\n",
    "\n"
   ]
  },
  {
   "cell_type": "code",
   "execution_count": 1,
   "metadata": {},
   "outputs": [
    {
     "name": "stdout",
     "output_type": "stream",
     "text": [
      "you are succesfullyconnected\n",
      "you are sucessfully closed\n"
     ]
    }
   ],
   "source": [
    "import mysql.connector\n",
    "\n",
    "config = {\n",
    "  'user': 'root',\n",
    "  'password': 'pratiJAN123$',\n",
    "  'host': 'localhost',\n",
    "  'database': 'employees',\n",
    "  'raise_on_warnings': True\n",
    "}\n",
    "\n",
    "cnx = mysql.connector.connect(**config)\n",
    "print(\"you are succesfullyconnected\")\n",
    "\n",
    "cnx.close()\n",
    "print(\"you are sucessfully closed\")"
   ]
  },
  {
   "cell_type": "markdown",
   "metadata": {},
   "source": [
    "Mysql connection with existing database  "
   ]
  },
  {
   "cell_type": "code",
   "execution_count": 2,
   "metadata": {},
   "outputs": [
    {
     "name": "stdout",
     "output_type": "stream",
     "text": [
      "Connected to MySQL Server version  8.0.28\n",
      "You're connected to database:  ('mysql_python',)\n"
     ]
    }
   ],
   "source": [
    "import mysql.connector\n",
    "from mysql.connector import Error\n",
    "#use database= whatever database you want to connect\n",
    "\n",
    "try:\n",
    "    connection = mysql.connector.connect(host='localhost',\n",
    "                                         database='mysql_python',\n",
    "                                         user='root',\n",
    "                                         password='pratiJAN123$')\n",
    "    if connection.is_connected():\n",
    "        db_Info = connection.get_server_info()\n",
    "        print(\"Connected to MySQL Server version \", db_Info)\n",
    "        cursor = connection.cursor()\n",
    "        cursor.execute(\"select database();\")\n",
    "        record = cursor.fetchone()\n",
    "        print(\"You're connected to database: \", record)\n",
    "\n",
    "except Error as e:\n",
    "    print(\"Error while connecting to MySQL\", e)"
   ]
  },
  {
   "cell_type": "markdown",
   "metadata": {},
   "source": [
    "Mysql connection with existing database  and close the same"
   ]
  },
  {
   "cell_type": "code",
   "execution_count": 3,
   "metadata": {},
   "outputs": [
    {
     "name": "stdout",
     "output_type": "stream",
     "text": [
      "Connected to MySQL Server version  8.0.28\n",
      "You're connected to database:  ('mysql_python',)\n",
      "MySQL connection is closed\n"
     ]
    }
   ],
   "source": [
    "import mysql.connector\n",
    "from mysql.connector import Error\n",
    "\n",
    "try:\n",
    "    connection = mysql.connector.connect(host='localhost',\n",
    "                                         database='mysql_python',\n",
    "                                         user='root',\n",
    "                                         password='pratiJAN123$')\n",
    "    if connection.is_connected():\n",
    "        db_Info = connection.get_server_info()\n",
    "        print(\"Connected to MySQL Server version \", db_Info)\n",
    "        cursor = connection.cursor()\n",
    "        cursor.execute(\"select database();\")\n",
    "        record = cursor.fetchone()\n",
    "        print(\"You're connected to database: \", record)\n",
    "\n",
    "except Error as e:\n",
    "    print(\"Error while connecting to MySQL\", e)\n",
    "finally:\n",
    "    if connection.is_connected():\n",
    "        cursor.close()\n",
    "        connection.close()\n",
    "        print(\"MySQL connection is closed\")\n"
   ]
  },
  {
   "cell_type": "markdown",
   "metadata": {},
   "source": [
    "Mysql new database creation\n"
   ]
  },
  {
   "cell_type": "code",
   "execution_count": 4,
   "metadata": {},
   "outputs": [
    {
     "name": "stdout",
     "output_type": "stream",
     "text": [
      "Connected to MySQL Server version  8.0.28\n",
      "You're connected to database:  (None,)\n",
      "eroor is :1007 (HY000): Can't create database 'pythontest'; database exists\n"
     ]
    }
   ],
   "source": [
    "\n",
    "import mysql.connector\n",
    "from mysql.connector import Error\n",
    "\n",
    "try:\n",
    "    connection = mysql.connector.connect(host='localhost',\n",
    "                                        user='root',\n",
    "                                         password='pratiJAN123$')\n",
    "    if connection.is_connected():\n",
    "        db_Info = connection.get_server_info()\n",
    "        print(\"Connected to MySQL Server version \", db_Info)\n",
    "        cursor = connection.cursor()\n",
    "        cursor.execute(\"select database();\")\n",
    "        record = cursor.fetchone()\n",
    "        print(\"You're connected to database: \", record)\n",
    "\n",
    "except Error as e:\n",
    "    print(\"Error while connecting to MySQL\", e)\n",
    "\n",
    "\n",
    "\n",
    "\n",
    "\n",
    "def create_database(connection,query):  \n",
    "    cursor=connection.cursor()\n",
    "    try:\n",
    "        cursor.execute(query)\n",
    "        print(\"database created successfully\")\n",
    "    except Error as err:\n",
    "        print(f\"eroor is :{err}\")\n",
    "\n",
    "query=\"create database pythontest\"\n",
    "\n",
    "\n",
    "create_database(connection,query)\n",
    "\n",
    "\n",
    "\n",
    "\n",
    "\n",
    "\n"
   ]
  },
  {
   "cell_type": "markdown",
   "metadata": {},
   "source": [
    "database connection and execute queries"
   ]
  },
  {
   "cell_type": "code",
   "execution_count": 5,
   "metadata": {},
   "outputs": [],
   "source": [
    "\n",
    "import mysql.connector\n",
    "from mysql.connector import Error\n",
    "def create_db_connection(host_name,db_name,pwd,username):\n",
    "    connection= None\n",
    "    try:\n",
    "        connection=mysql.connector.Connect(\n",
    "        host=host_name,\n",
    "        database=db_name,\n",
    "        password=pwd,\n",
    "        user=username)\n",
    "        print(\"you are connected successfully\")\n",
    "    except Error as err:\n",
    "     print(f\"error is :{err}\")\n",
    "    return connection\n",
    "\n",
    "\n",
    "def execute_query(connection,query):  \n",
    "    cursor=connection.cursor()\n",
    "    try:\n",
    "        cursor.execute(query)\n",
    "        connection.commit()\n",
    "        print(\"query is executed  successfully\")\n",
    "    except Error as err:\n",
    "        print(f\"eroor is :{err}\")\n",
    "    \n",
    "\n",
    "\n",
    "\n"
   ]
  },
  {
   "cell_type": "code",
   "execution_count": 6,
   "metadata": {},
   "outputs": [
    {
     "name": "stdout",
     "output_type": "stream",
     "text": [
      "you are connected successfully\n",
      "eroor is :1062 (23000): Duplicate entry '10003' for key 'employees.PRIMARY'\n"
     ]
    }
   ],
   "source": [
    "create_order_table=\"\"\"\n",
    "CREATE TABLE employees (\n",
    "    emp_no      INT             NOT NULL,\n",
    "    birth_date  DATE            NOT NULL,\n",
    "    first_name  VARCHAR(14)     NOT NULL,\n",
    "    last_name   VARCHAR(16)     NOT NULL,\n",
    "    gender      ENUM ('M','F')  NOT NULL,    \n",
    "    hire_date   DATE            NOT NULL,\n",
    "    PRIMARY KEY (emp_no)\n",
    ");\n",
    "\"\"\"\n",
    "\n",
    "\n",
    "insert_into= \"\"\"INSERT INTO `employees` VALUES \n",
    "(10003,'1959-12-03','Parto','Bamford','M','1986-08-28'),\n",
    "(10004,'1954-05-01','Chirstian','Koblick','M','1986-12-01'),\n",
    "(10005,'1955-01-21','Kyoichi','Maliniak','M','1989-09-12'),\n",
    "(10006,'1953-04-20','Anneke','Preusig','F','1989-06-02'),\n",
    "(10007,'1957-05-23','Tzvetan','Zielinski','F','1989-02-10'),\n",
    "(10008,'1958-02-19','Saniya','Kalloufi','M','1994-09-15'),\n",
    "(10009,'1952-04-19','Sumant','Peac','F','1985-02-18'),\n",
    "(10010,'1963-06-01','Duangkaew','Piveteau','F','1989-08-24'),\n",
    "(10011,'1953-11-07','Mary','Sluis','F','1990-01-22'),\n",
    "(10012,'1960-10-04','Patricio','Bridgland','M','1992-12-18'),\n",
    "(10013,'1963-06-07','Eberhardt','Terkki','M','1985-10-20'),\n",
    "(10014,'1956-02-12','Berni','Genin','M','1987-03-11'),\n",
    "(10015,'1959-08-19','Guoxiang','Nooteboom','M','1987-07-02'),\n",
    "(10016,'1961-05-02','Kazuhito','Cappelletti','M','1995-01-27'),\n",
    "(10017,'1958-07-06','Cristinel','Bouloucos','F','1993-08-03'),\n",
    "(10018,'1954-06-19','Kazuhide','Peha','F','1987-04-03'),\n",
    "(10019,'1953-01-23','Lillian','Haddadi','M','1999-04-30'),\n",
    "(10020,'1952-12-24','Mayuko','Warwick','M','1991-01-26'),\n",
    "(10021,'1960-02-20','Ramzi','Erde','M','1988-02-10'),\n",
    "(10022,'1952-07-08','Shahaf','Famili','M','1995-08-22'),\n",
    "(10023,'1953-09-29','Bojan','Montemayor','F','1989-12-17'),\n",
    "(10024,'1958-09-05','Suzette','Pettey','F','1997-05-19'),\n",
    "(10025,'1958-10-31','Prasadram','Heyers','M','1987-08-17'),\n",
    "(10026,'1953-04-03','Yongqiao','Berztiss','M','1995-03-20'),\n",
    "(10027,'1962-07-10','Divier','Reistad','F','1989-07-07'),\n",
    "(10028,'1963-11-26','Domenick','Tempesti','M','1991-10-22'),\n",
    "(10029,'1956-12-13','Otmar','Herbst','M','1985-11-20'),\n",
    "(10030,'1958-07-14','Elvis','Demeyer','M','1994-02-17'),\n",
    "(10031,'1959-01-27','Karsten','Joslin','M','1991-09-01'),\n",
    "(10032,'1960-08-09','Jeong','Reistad','F','1990-06-20'),\n",
    "(10033,'1956-11-14','Arif','Merlo','M','1987-03-18'),\n",
    "(10034,'1962-12-29','Bader','Swan','M','1988-09-21'),\n",
    "(10035,'1953-02-08','Alain','Chappelet','M','1988-09-05'),\n",
    "(10036,'1959-08-10','Adamantios','Portugali','M','1992-01-03'),\n",
    "(10037,'1963-07-22','Pradeep','Makrucki','M','1990-12-05'),\n",
    "(10038,'1960-07-20','Huan','Lortz','M','1989-09-20'),\n",
    "(10039,'1959-10-01','Alejandro','Brender','M','1988-01-19'),\n",
    "(10040,'1959-09-13','Weiyi','Meriste','F','1993-02-14'),\n",
    "(10041,'1959-08-27','Uri','Lenart','F','1989-11-12'),\n",
    "(10042,'1956-02-26','Magy','Stamatiou','F','1993-03-21'),\n",
    "(10043,'1960-09-19','Yishay','Tzvieli','M','1990-10-20'),\n",
    "(10044,'1961-09-21','Mingsen','Casley','F','1994-05-21'),\n",
    "(10045,'1957-08-14','Moss','Shanbhogue','M','1989-09-02'),\n",
    "(10046,'1960-07-23','Lucien','Rosenbaum','M','1992-06-20'),\n",
    "(10047,'1952-06-29','Zvonko','Nyanchama','M','1989-03-31'),\n",
    "(10048,'1963-07-11','Florian','Syrotiuk','M','1985-02-24'),\n",
    "(10049,'1961-04-24','Basil','Tramer','F','1992-05-04'),\n",
    "(10050,'1958-05-21','Yinghua','Dredge','M','1990-12-25');\"\"\"\n",
    "\n",
    "\n",
    "\n",
    "cnx=create_db_connection(\"localhost\",\"pythontest\",\"pratiJAN123$\",\"root\")\n",
    "#execute_query(cnx,create_)\n",
    "execute_query(cnx,insert_into)"
   ]
  },
  {
   "cell_type": "markdown",
   "metadata": {},
   "source": [
    "reading query\n"
   ]
  },
  {
   "cell_type": "code",
   "execution_count": 29,
   "metadata": {},
   "outputs": [
    {
     "name": "stdout",
     "output_type": "stream",
     "text": [
      "(10001, datetime.date(1953, 9, 2), 'Georgi', 'Facello', 'M', datetime.date(1986, 6, 26))\n",
      "(10002, datetime.date(1964, 6, 2), 'Bezalel', 'Simmel', 'F', datetime.date(1985, 11, 21))\n",
      "(10003, datetime.date(1959, 12, 3), 'Parto', 'Bamford', 'M', datetime.date(1986, 8, 28))\n",
      "(10004, datetime.date(1954, 5, 1), 'Chirstian', 'Koblick', 'M', datetime.date(1986, 12, 1))\n",
      "(10005, datetime.date(1955, 1, 21), 'Kyoichi', 'Maliniak', 'M', datetime.date(1989, 9, 12))\n",
      "(10006, datetime.date(1953, 4, 20), 'Anneke', 'Preusig', 'F', datetime.date(1989, 6, 2))\n",
      "(10007, datetime.date(1957, 5, 23), 'Tzvetan', 'Zielinski', 'F', datetime.date(1989, 2, 10))\n",
      "(10008, datetime.date(1958, 2, 19), 'Saniya', 'Kalloufi', 'M', datetime.date(1994, 9, 15))\n",
      "(10009, datetime.date(1952, 4, 19), 'Sumant', 'Peac', 'F', datetime.date(1985, 2, 18))\n",
      "(10010, datetime.date(1963, 6, 1), 'Duangkaew', 'Piveteau', 'F', datetime.date(1989, 8, 24))\n",
      "(10011, datetime.date(1953, 11, 7), 'Mary', 'Sluis', 'F', datetime.date(1990, 1, 22))\n",
      "(10012, datetime.date(1960, 10, 4), 'Patricio', 'Bridgland', 'M', datetime.date(1992, 12, 18))\n",
      "(10013, datetime.date(1963, 6, 7), 'Eberhardt', 'Terkki', 'M', datetime.date(1985, 10, 20))\n",
      "(10014, datetime.date(1956, 2, 12), 'Berni', 'Genin', 'M', datetime.date(1987, 3, 11))\n",
      "(10015, datetime.date(1959, 8, 19), 'Guoxiang', 'Nooteboom', 'M', datetime.date(1987, 7, 2))\n",
      "(10016, datetime.date(1961, 5, 2), 'Kazuhito', 'Cappelletti', 'M', datetime.date(1995, 1, 27))\n",
      "(10017, datetime.date(1958, 7, 6), 'Cristinel', 'Bouloucos', 'F', datetime.date(1993, 8, 3))\n",
      "(10018, datetime.date(1954, 6, 19), 'Kazuhide', 'Peha', 'F', datetime.date(1987, 4, 3))\n",
      "(10019, datetime.date(1953, 1, 23), 'Lillian', 'Haddadi', 'M', datetime.date(1999, 4, 30))\n",
      "(10020, datetime.date(1952, 12, 24), 'Mayuko', 'Warwick', 'M', datetime.date(1991, 1, 26))\n",
      "(10021, datetime.date(1960, 2, 20), 'Ramzi', 'Erde', 'M', datetime.date(1988, 2, 10))\n",
      "(10022, datetime.date(1952, 7, 8), 'Shahaf', 'Famili', 'M', datetime.date(1995, 8, 22))\n",
      "(10023, datetime.date(1953, 9, 29), 'Bojan', 'Montemayor', 'F', datetime.date(1989, 12, 17))\n",
      "(10024, datetime.date(1958, 9, 5), 'Suzette', 'Pettey', 'F', datetime.date(1997, 5, 19))\n",
      "(10025, datetime.date(1958, 10, 31), 'Prasadram', 'Heyers', 'M', datetime.date(1987, 8, 17))\n",
      "(10026, datetime.date(1953, 4, 3), 'Yongqiao', 'Berztiss', 'M', datetime.date(1995, 3, 20))\n",
      "(10027, datetime.date(1962, 7, 10), 'Divier', 'Reistad', 'F', datetime.date(1989, 7, 7))\n",
      "(10028, datetime.date(1963, 11, 26), 'Domenick', 'Tempesti', 'M', datetime.date(1991, 10, 22))\n",
      "(10029, datetime.date(1956, 12, 13), 'Otmar', 'Herbst', 'M', datetime.date(1985, 11, 20))\n",
      "(10030, datetime.date(1958, 7, 14), 'Elvis', 'Demeyer', 'M', datetime.date(1994, 2, 17))\n",
      "(10031, datetime.date(1959, 1, 27), 'Karsten', 'Joslin', 'M', datetime.date(1991, 9, 1))\n",
      "(10032, datetime.date(1960, 8, 9), 'Jeong', 'Reistad', 'F', datetime.date(1990, 6, 20))\n",
      "(10033, datetime.date(1956, 11, 14), 'Arif', 'Merlo', 'M', datetime.date(1987, 3, 18))\n",
      "(10034, datetime.date(1962, 12, 29), 'Bader', 'Swan', 'M', datetime.date(1988, 9, 21))\n",
      "(10035, datetime.date(1953, 2, 8), 'Alain', 'Chappelet', 'M', datetime.date(1988, 9, 5))\n",
      "(10036, datetime.date(1959, 8, 10), 'Adamantios', 'Portugali', 'M', datetime.date(1992, 1, 3))\n",
      "(10037, datetime.date(1963, 7, 22), 'Pradeep', 'Makrucki', 'M', datetime.date(1990, 12, 5))\n",
      "(10038, datetime.date(1960, 7, 20), 'Huan', 'Lortz', 'M', datetime.date(1989, 9, 20))\n",
      "(10039, datetime.date(1959, 10, 1), 'Alejandro', 'Brender', 'M', datetime.date(1988, 1, 19))\n",
      "(10040, datetime.date(1959, 9, 13), 'Weiyi', 'Meriste', 'F', datetime.date(1993, 2, 14))\n",
      "(10041, datetime.date(1959, 8, 27), 'Uri', 'Lenart', 'F', datetime.date(1989, 11, 12))\n",
      "(10042, datetime.date(1956, 2, 26), 'Magy', 'Stamatiou', 'F', datetime.date(1993, 3, 21))\n",
      "(10043, datetime.date(1960, 9, 19), 'Yishay', 'Tzvieli', 'M', datetime.date(1990, 10, 20))\n",
      "(10044, datetime.date(1961, 9, 21), 'Mingsen', 'Casley', 'F', datetime.date(1994, 5, 21))\n",
      "(10045, datetime.date(1957, 8, 14), 'Moss', 'Shanbhogue', 'M', datetime.date(1989, 9, 2))\n",
      "(10046, datetime.date(1960, 7, 23), 'Lucien', 'Rosenbaum', 'M', datetime.date(1992, 6, 20))\n",
      "(10047, datetime.date(1952, 6, 29), 'Zvonko', 'Nyanchama', 'M', datetime.date(1989, 3, 31))\n",
      "(10048, datetime.date(1963, 7, 11), 'Florian', 'Syrotiuk', 'M', datetime.date(1985, 2, 24))\n",
      "(10049, datetime.date(1961, 4, 24), 'Basil', 'Tramer', 'F', datetime.date(1992, 5, 4))\n",
      "(10050, datetime.date(1958, 5, 21), 'Yinghua', 'pratik', 'M', datetime.date(1990, 12, 25))\n"
     ]
    }
   ],
   "source": [
    "def read_query(connection,query):  \n",
    "    cursor=connection.cursor()\n",
    "    result=None\n",
    "    try:\n",
    "        cursor.execute(query)\n",
    "        result=cursor.fetchall()\n",
    "        return result\n",
    "    except Error as err:\n",
    "        print(f\"eroor is :{err}\")\n",
    "\n",
    "q1=\"\"\"\n",
    "select * from employees;\n",
    "\"\"\"\n",
    "\n",
    "results=read_query(cnx,q1)\n",
    "\n",
    "\n",
    "for i in results:\n",
    "    print(i)\n",
    "\n"
   ]
  },
  {
   "cell_type": "code",
   "execution_count": 12,
   "metadata": {},
   "outputs": [
    {
     "name": "stdout",
     "output_type": "stream",
     "text": [
      "(10001, 'Georgi')\n",
      "(10002, 'Bezalel')\n",
      "(10003, 'Parto')\n",
      "(10004, 'Chirstian')\n",
      "(10005, 'Kyoichi')\n",
      "(10006, 'Anneke')\n",
      "(10007, 'Tzvetan')\n",
      "(10008, 'Saniya')\n",
      "(10009, 'Sumant')\n",
      "(10010, 'Duangkaew')\n",
      "(10011, 'Mary')\n",
      "(10012, 'Patricio')\n",
      "(10013, 'Eberhardt')\n",
      "(10014, 'Berni')\n",
      "(10015, 'Guoxiang')\n",
      "(10016, 'Kazuhito')\n",
      "(10017, 'Cristinel')\n",
      "(10018, 'Kazuhide')\n",
      "(10019, 'Lillian')\n",
      "(10020, 'Mayuko')\n",
      "(10021, 'Ramzi')\n",
      "(10022, 'Shahaf')\n",
      "(10023, 'Bojan')\n",
      "(10024, 'Suzette')\n",
      "(10025, 'Prasadram')\n",
      "(10026, 'Yongqiao')\n",
      "(10027, 'Divier')\n",
      "(10028, 'Domenick')\n",
      "(10029, 'Otmar')\n",
      "(10030, 'Elvis')\n",
      "(10031, 'Karsten')\n",
      "(10032, 'Jeong')\n",
      "(10033, 'Arif')\n",
      "(10034, 'Bader')\n",
      "(10035, 'Alain')\n",
      "(10036, 'Adamantios')\n",
      "(10037, 'Pradeep')\n",
      "(10038, 'Huan')\n",
      "(10039, 'Alejandro')\n",
      "(10040, 'Weiyi')\n",
      "(10041, 'Uri')\n",
      "(10042, 'Magy')\n",
      "(10043, 'Yishay')\n",
      "(10044, 'Mingsen')\n",
      "(10045, 'Moss')\n",
      "(10046, 'Lucien')\n",
      "(10047, 'Zvonko')\n",
      "(10048, 'Florian')\n",
      "(10049, 'Basil')\n",
      "(10050, 'Yinghua')\n"
     ]
    }
   ],
   "source": [
    "q2=\"\"\"\n",
    "select emp_no,first_name from employees;\n",
    "\"\"\"\n",
    "\n",
    "results=read_query(cnx,q2)\n",
    "\n",
    "\n",
    "for i in results:\n",
    "    print(i)\n"
   ]
  },
  {
   "cell_type": "code",
   "execution_count": 13,
   "metadata": {},
   "outputs": [
    {
     "name": "stdout",
     "output_type": "stream",
     "text": [
      "('Georgi', 1953)\n",
      "('Bezalel', 1964)\n",
      "('Parto', 1959)\n",
      "('Chirstian', 1954)\n",
      "('Kyoichi', 1955)\n",
      "('Anneke', 1953)\n",
      "('Tzvetan', 1957)\n",
      "('Saniya', 1958)\n",
      "('Sumant', 1952)\n",
      "('Duangkaew', 1963)\n",
      "('Mary', 1953)\n",
      "('Patricio', 1960)\n",
      "('Eberhardt', 1963)\n",
      "('Berni', 1956)\n",
      "('Guoxiang', 1959)\n",
      "('Kazuhito', 1961)\n",
      "('Cristinel', 1958)\n",
      "('Kazuhide', 1954)\n",
      "('Lillian', 1953)\n",
      "('Mayuko', 1952)\n",
      "('Ramzi', 1960)\n",
      "('Shahaf', 1952)\n",
      "('Bojan', 1953)\n",
      "('Suzette', 1958)\n",
      "('Prasadram', 1958)\n",
      "('Yongqiao', 1953)\n",
      "('Divier', 1962)\n",
      "('Domenick', 1963)\n",
      "('Otmar', 1956)\n",
      "('Elvis', 1958)\n",
      "('Karsten', 1959)\n",
      "('Jeong', 1960)\n",
      "('Arif', 1956)\n",
      "('Bader', 1962)\n",
      "('Alain', 1953)\n",
      "('Adamantios', 1959)\n",
      "('Pradeep', 1963)\n",
      "('Huan', 1960)\n",
      "('Alejandro', 1959)\n",
      "('Weiyi', 1959)\n",
      "('Uri', 1959)\n",
      "('Magy', 1956)\n",
      "('Yishay', 1960)\n",
      "('Mingsen', 1961)\n",
      "('Moss', 1957)\n",
      "('Lucien', 1960)\n",
      "('Zvonko', 1952)\n",
      "('Florian', 1963)\n",
      "('Basil', 1961)\n",
      "('Yinghua', 1958)\n"
     ]
    }
   ],
   "source": [
    "q3=\"\"\"\n",
    "select first_name,year(birth_date) from employees;\n",
    "\"\"\"\n",
    "\n",
    "results=read_query(cnx,q3)\n",
    "\n",
    "\n",
    "for i in results:\n",
    "    print(i)\n"
   ]
  },
  {
   "cell_type": "code",
   "execution_count": 17,
   "metadata": {},
   "outputs": [
    {
     "name": "stdout",
     "output_type": "stream",
     "text": [
      "(1953,)\n",
      "(1964,)\n",
      "(1959,)\n",
      "(1954,)\n",
      "(1955,)\n",
      "(1957,)\n",
      "(1958,)\n",
      "(1952,)\n",
      "(1963,)\n",
      "(1960,)\n",
      "(1956,)\n",
      "(1961,)\n",
      "(1962,)\n"
     ]
    }
   ],
   "source": [
    "q4=\"\"\"\n",
    "select distinct year(birth_date)from employees;\n",
    "\"\"\"\n",
    "\n",
    "results=read_query(cnx,q4)\n",
    "\n",
    "\n",
    "for i in results:\n",
    "    print(i)\n"
   ]
  },
  {
   "cell_type": "code",
   "execution_count": 20,
   "metadata": {},
   "outputs": [
    {
     "name": "stdout",
     "output_type": "stream",
     "text": [
      "(10001, datetime.date(1953, 9, 2), 'Georgi', 'Facello', 'M', datetime.date(1986, 6, 26))\n",
      "(10004, datetime.date(1954, 5, 1), 'Chirstian', 'Koblick', 'M', datetime.date(1986, 12, 1))\n",
      "(10006, datetime.date(1953, 4, 20), 'Anneke', 'Preusig', 'F', datetime.date(1989, 6, 2))\n",
      "(10009, datetime.date(1952, 4, 19), 'Sumant', 'Peac', 'F', datetime.date(1985, 2, 18))\n",
      "(10011, datetime.date(1953, 11, 7), 'Mary', 'Sluis', 'F', datetime.date(1990, 1, 22))\n",
      "(10018, datetime.date(1954, 6, 19), 'Kazuhide', 'Peha', 'F', datetime.date(1987, 4, 3))\n",
      "(10019, datetime.date(1953, 1, 23), 'Lillian', 'Haddadi', 'M', datetime.date(1999, 4, 30))\n",
      "(10020, datetime.date(1952, 12, 24), 'Mayuko', 'Warwick', 'M', datetime.date(1991, 1, 26))\n",
      "(10022, datetime.date(1952, 7, 8), 'Shahaf', 'Famili', 'M', datetime.date(1995, 8, 22))\n",
      "(10023, datetime.date(1953, 9, 29), 'Bojan', 'Montemayor', 'F', datetime.date(1989, 12, 17))\n",
      "(10026, datetime.date(1953, 4, 3), 'Yongqiao', 'Berztiss', 'M', datetime.date(1995, 3, 20))\n",
      "(10035, datetime.date(1953, 2, 8), 'Alain', 'Chappelet', 'M', datetime.date(1988, 9, 5))\n",
      "(10047, datetime.date(1952, 6, 29), 'Zvonko', 'Nyanchama', 'M', datetime.date(1989, 3, 31))\n"
     ]
    }
   ],
   "source": [
    "q5=\"\"\"\n",
    "select * from employees\n",
    "where year(birth_date)<1955;\n",
    "\"\"\"\n",
    "\n",
    "results=read_query(cnx,q5)\n",
    "\n",
    "\n",
    "for i in results:\n",
    "    print(i)"
   ]
  },
  {
   "cell_type": "code",
   "execution_count": 27,
   "metadata": {},
   "outputs": [
    {
     "name": "stdout",
     "output_type": "stream",
     "text": [
      "<class 'pandas.core.frame.DataFrame'>\n",
      "RangeIndex: 13 entries, 0 to 12\n",
      "Data columns (total 6 columns):\n",
      " #   Column      Non-Null Count  Dtype \n",
      "---  ------      --------------  ----- \n",
      " 0   emp_no      13 non-null     int64 \n",
      " 1   birth_date  13 non-null     object\n",
      " 2   first_name  13 non-null     object\n",
      " 3   last_name   13 non-null     object\n",
      " 4   gender      13 non-null     object\n",
      " 5   hire_date   13 non-null     object\n",
      "dtypes: int64(1), object(5)\n",
      "memory usage: 752.0+ bytes\n"
     ]
    }
   ],
   "source": [
    "import pandas as pd\n",
    "q5=\"\"\"\n",
    "select * from employees;\n",
    "\"\"\"\n",
    "\n",
    "\n",
    "column=['emp_no', 'birth_date', 'first_name', 'last_name', 'gender', 'hire_date']\n",
    "listoftable=[]\n",
    "for i in results:\n",
    "    j=list(i)\n",
    "    listoftable.append(j)\n",
    "\n",
    "\n",
    "df=pd.DataFrame(listoftable,columns=column)\n",
    "\n",
    "df.info()"
   ]
  },
  {
   "cell_type": "code",
   "execution_count": 28,
   "metadata": {},
   "outputs": [],
   "source": [
    "update=\"\"\"\n",
    "update employees\n",
    "set last_name=\"pratik\"\n",
    "where emp_no=10050\n",
    "\"\"\"\n",
    "results=read_query(cnx,update)"
   ]
  },
  {
   "cell_type": "code",
   "execution_count": 30,
   "metadata": {},
   "outputs": [
    {
     "name": "stdout",
     "output_type": "stream",
     "text": [
      "(10050, datetime.date(1958, 5, 21), 'Yinghua', 'pratik', 'M', datetime.date(1990, 12, 25))\n"
     ]
    }
   ],
   "source": [
    "q1=\"\"\"\n",
    "select * from employees\n",
    "where emp_no=10050;\n",
    "\"\"\"\n",
    "\n",
    "results=read_query(cnx,q1)\n",
    "\n",
    "\n",
    "for i in results:\n",
    "    print(i)"
   ]
  }
 ],
 "metadata": {
  "kernelspec": {
   "display_name": "Python 3.10.4 64-bit",
   "language": "python",
   "name": "python3"
  },
  "language_info": {
   "codemirror_mode": {
    "name": "ipython",
    "version": 3
   },
   "file_extension": ".py",
   "mimetype": "text/x-python",
   "name": "python",
   "nbconvert_exporter": "python",
   "pygments_lexer": "ipython3",
   "version": "3.10.4"
  },
  "orig_nbformat": 4,
  "vscode": {
   "interpreter": {
    "hash": "2e47b97e2733a6ec496a1da82c2f0b7e55196e1490feb66375c27c70a4b6c40f"
   }
  }
 },
 "nbformat": 4,
 "nbformat_minor": 2
}
